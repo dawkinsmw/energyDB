{
 "cells": [
  {
   "cell_type": "code",
   "execution_count": 7,
   "source": [
    "import os\r\n",
    "print(\"change cwd\")\r\n",
    "print(os.getcwd())\r\n",
    "print(\"to\")\r\n",
    "os.chdir('..')\r\n",
    "print(os.getcwd())"
   ],
   "outputs": [
    {
     "output_type": "stream",
     "name": "stdout",
     "text": [
      "c:\\Users\\mdawkins\\Projects\\energyDB\\investigations\n",
      "to\n",
      "c:\\Users\\mdawkins\\Projects\\energyDB\n"
     ]
    }
   ],
   "metadata": {}
  },
  {
   "cell_type": "code",
   "execution_count": 8,
   "source": [
    "import psycopg2\r\n",
    "import datetime as dt\r\n",
    "from dateutil.relativedelta import relativedelta\r\n",
    "from conf.database import db_name, db_user, db_pword, db_host, db_port\r\n"
   ],
   "outputs": [],
   "metadata": {}
  },
  {
   "cell_type": "code",
   "execution_count": null,
   "source": [
    "dbc = psycopg2.connect(user=db_user,\r\n",
    "                        password=db_pword,\r\n",
    "                        host=db_host,\r\n",
    "                        port=db_port,\r\n",
    "                        database=db_name)"
   ],
   "outputs": [],
   "metadata": {}
  },
  {
   "cell_type": "code",
   "execution_count": 3,
   "source": [
    "pwd"
   ],
   "outputs": [
    {
     "output_type": "execute_result",
     "data": {
      "text/plain": [
       "'c:\\\\Users\\\\mdawkins\\\\Projects\\\\energyDB\\\\investigations'"
      ]
     },
     "metadata": {},
     "execution_count": 3
    }
   ],
   "metadata": {}
  },
  {
   "cell_type": "code",
   "execution_count": null,
   "source": [],
   "outputs": [],
   "metadata": {}
  }
 ],
 "metadata": {
  "orig_nbformat": 4,
  "language_info": {
   "name": "python",
   "version": "3.8.5",
   "mimetype": "text/x-python",
   "codemirror_mode": {
    "name": "ipython",
    "version": 3
   },
   "pygments_lexer": "ipython3",
   "nbconvert_exporter": "python",
   "file_extension": ".py"
  },
  "kernelspec": {
   "name": "python3",
   "display_name": "Python 3.8.5 64-bit ('energyDB': conda)"
  },
  "interpreter": {
   "hash": "703fdc1426ca8d98a5d12c81a2b38983c52ed9bfce6816b4518561935d4a05b2"
  }
 },
 "nbformat": 4,
 "nbformat_minor": 2
}