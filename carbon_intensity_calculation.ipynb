{
 "cells": [
  {
   "cell_type": "code",
   "execution_count": null,
   "metadata": {},
   "outputs": [],
   "source": [
    "\n",
    "data_message = self.carbon_calc_request_pb_proxy.CarbonCalcRequest()\n",
    "\n",
    "data_message.ParseFromString(msg.value())\n",
    "if is_invalid_message(data_message):\n",
    "    self.logger.error(\"Invalid message received\")\n",
    "    return\n",
    "\n",
    "start_time = datetime.datetime.fromtimestamp(data_message.start_time.seconds)\n",
    "end_time = datetime.datetime.fromtimestamp(data_message.end_time.seconds)\n",
    "with Span(self.logger):\n",
    "    self.logger.info(\"Start process carbon calculation for %s between %s and %s\", data_message.state,\n",
    "                     start_time, end_time)\n",
    "    country = db_client.get_country(data_message.country)\n",
    "    state = db_client.get_state(data_message.state, country)\n",
    "    fuel_mix_data = db_client.get_fuel_mix_data(state, start_time, end_time)\n",
    "    emission_factors = db_client.get_emission_factors(state)\n",
    "    if not emission_factors:\n",
    "        self.logger.info(\"No emission factors found for %s between %s and %s, quit calculation\",\n",
    "                         data_message.state, start_time, end_time)\n",
    "        return\n",
    "    fuel_mix_df = pd.DataFrame([(f.timestamp, f.fuel_type_uid, f.value) for f in fuel_mix_data])\n",
    "    emission_factors_df = pd.DataFrame([(e.fuel_type_uid, e.emission_factor) for e in emission_factors])\n",
    "    emission_factors_df = emission_factors_df.rename(columns={0: \"type\", 1: \"value\"})\n",
    "    fuel_mix_df = fuel_mix_df.rename(columns={0: \"time\", 1: \"type\", 2: \"value\"})\n",
    "    fuel_mix_df = pd.pivot_table(fuel_mix_df, values='value', index=['time'], columns=['type'])\n",
    "    emission_factors_df = pd.pivot_table(emission_factors_df, values='value', columns=['type'])\n",
    "    fuel_mix_df[\"carbon_emission\"] = 0\n",
    "    fuel_mix_df[\"total_production\"] = 0\n",
    "    for column in emission_factors_df.columns:\n",
    "        if column in fuel_mix_df.columns:\n",
    "            fuel_mix_df[\"carbon_emission\"] += fuel_mix_df[column].values * emission_factors_df[column].values\n",
    "            fuel_mix_df[\"total_production\"] += fuel_mix_df[column].values\n",
    "    fuel_mix_df[\"carbon_intensity_without_import\"] = fuel_mix_df[\"carbon_emission\"] / fuel_mix_df[\"total_production\"]\n",
    "    db_client.save_carbon_result(state, fuel_mix_df)\n",
    "    self.logger.info(\n",
    "        \"Saved carbon intensity result for %s between %s and %s\", data_message.state,\n",
    "        start_time, end_time\n",
    "    )\n",
    "    self.send_message(data_message.country, data_message.state, start_time, end_time, fuel_mix_df)\n",
    "    self.producer.flush()\n",
    "\n"
   ]
  },
  {
   "cell_type": "code",
   "execution_count": null,
   "metadata": {},
   "outputs": [],
   "source": []
  }
 ],
 "metadata": {
  "kernelspec": {
   "display_name": "Python 3",
   "language": "python",
   "name": "python3"
  },
  "language_info": {
   "codemirror_mode": {
    "name": "ipython",
    "version": 3
   },
   "file_extension": ".py",
   "mimetype": "text/x-python",
   "name": "python",
   "nbconvert_exporter": "python",
   "pygments_lexer": "ipython3",
   "version": "3.7.6"
  }
 },
 "nbformat": 4,
 "nbformat_minor": 4
}
