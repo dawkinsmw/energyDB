{
 "cells": [
  {
   "cell_type": "markdown",
   "source": [
    "# Imports"
   ],
   "metadata": {}
  },
  {
   "cell_type": "code",
   "execution_count": 1,
   "source": [
    "import psycopg2\r\n",
    "from psycopg2 import DatabaseError\r\n",
    "import logging\r\n",
    "import requests\r\n",
    "import datetime as dt\r\n",
    "from parser_opennem import parse_request_json\r\n",
    "from db_populate import insert_batch\r\n",
    "from dateutil.relativedelta import relativedelta"
   ],
   "outputs": [],
   "metadata": {}
  },
  {
   "cell_type": "markdown",
   "source": [
    "# Logging"
   ],
   "metadata": {}
  },
  {
   "cell_type": "code",
   "execution_count": 15,
   "source": [
    "logger = logging.getLogger(__name__)\r\n",
    "c_handler = logging.StreamHandler()\r\n",
    "f_handler = logging.FileHandler('file.log')\r\n",
    "c_handler.setLevel(logging.DEBUG)\r\n",
    "f_handler.setLevel(logging.DEBUG)\r\n",
    "c_format = logging.Formatter('%(name)s - %(levelname)s - %(message)s')\r\n",
    "f_format = logging.Formatter('%(asctime)s - %(name)s - %(levelname)s - %(message)s')\r\n",
    "c_handler.setFormatter(c_format)\r\n",
    "f_handler.setFormatter(f_format)\r\n",
    "logger.addHandler(c_handler)\r\n",
    "logger.addHandler(f_handler)"
   ],
   "outputs": [],
   "metadata": {}
  },
  {
   "cell_type": "markdown",
   "source": [
    "# Config"
   ],
   "metadata": {}
  },
  {
   "cell_type": "code",
   "execution_count": 16,
   "source": [
    "db_name = \"energy\"\r\n",
    "db_user = \"dawki\"\r\n",
    "db_pword_file = \"C:\\\\Users\\\\dawki\\\\OneDrive\\\\Archive\\\\2019\\\\Documents\\\\private.txt\"\r\n",
    "with open(db_pword_file) as f:\r\n",
    "    db_pword = f.read()"
   ],
   "outputs": [],
   "metadata": {}
  },
  {
   "cell_type": "code",
   "execution_count": 17,
   "source": [
    "from data import ZONE_KEY_TO_REGION, REGION_LONG_NAMES, NETWORK_LONG_NAMES"
   ],
   "outputs": [],
   "metadata": {}
  },
  {
   "cell_type": "markdown",
   "source": [
    "# Main"
   ],
   "metadata": {}
  },
  {
   "cell_type": "code",
   "execution_count": 33,
   "source": [
    "## Params\r\n",
    "region = ZONE_KEY_TO_REGION['AUS-WA']\r\n",
    "first_month_start = dt.date.fromisoformat('2019-01-01')\r\n",
    "final_month_start = dt.date.today().replace(day=1)"
   ],
   "outputs": [],
   "metadata": {}
  },
  {
   "cell_type": "code",
   "execution_count": 34,
   "source": [
    "## Connect to DB\r\n",
    "dbc = psycopg2.connect(user=db_user,\r\n",
    "                        password=db_pword,\r\n",
    "                        host=\"127.0.0.1\",\r\n",
    "                        port=\"5432\",\r\n",
    "                        database=db_name)"
   ],
   "outputs": [],
   "metadata": {}
  },
  {
   "cell_type": "code",
   "execution_count": 35,
   "source": [
    "## Teardown DB\r\n",
    "# cur = dbc.cursor()\r\n",
    "# with open('db_teardown.sql','r') as sql_file:\r\n",
    "#     cur.execute(sql_file.read())\r\n",
    "# dbc.commit()"
   ],
   "outputs": [],
   "metadata": {}
  },
  {
   "cell_type": "code",
   "execution_count": 36,
   "source": [
    "## Setup DB\r\n",
    "# cur = dbc.cursor()\r\n",
    "# with open('db_setup.sql','r') as sql_file:\r\n",
    "#     cur.execute(sql_file.read())\r\n",
    "# dbc.commit()"
   ],
   "outputs": [],
   "metadata": {}
  },
  {
   "cell_type": "code",
   "execution_count": 37,
   "source": [
    "while( first_month_start <= final_month_start):\r\n",
    "    print(f\"starting: {first_month_start}\")\r\n",
    "    \r\n",
    "    ## URL\r\n",
    "    url = f'http://api.opennem.org.au/stats/power/network/fueltech/NEM/{region}?month={first_month_start}'\r\n",
    "\r\n",
    "    ## Request data\r\n",
    "    logger.info(f'Requesting {url}..')\r\n",
    "    r = requests.get(url)\r\n",
    "    r.raise_for_status()\r\n",
    "\r\n",
    "    ## Parse data \r\n",
    "    logger.info('Parsing JSON..')\r\n",
    "    meta, price, power = parse_request_json(r.json())\r\n",
    "\r\n",
    "    ## Set cursor\r\n",
    "    cursor = dbc.cursor()\r\n",
    "\r\n",
    "    ## Insert batch\r\n",
    "    logger.info('Insert batch..')\r\n",
    "    insert_batch(cursor,logger,meta,price,power)\r\n",
    "\r\n",
    "    ## Commit transaction\r\n",
    "    logger.info('Commiting to DB..')\r\n",
    "    dbc.commit()\r\n",
    "\r\n",
    "    first_month_start = first_month_start + relativedelta(months=1)"
   ],
   "outputs": [
    {
     "output_type": "stream",
     "name": "stdout",
     "text": [
      "starting: 2019-01-01\n"
     ]
    },
    {
     "output_type": "error",
     "ename": "HTTPError",
     "evalue": "500 Server Error: Internal Server Error for url: https://api.opennem.org.au/stats/power/network/fueltech/NEM/WEM?month=2019-01-01",
     "traceback": [
      "\u001b[1;31m---------------------------------------------------------------------------\u001b[0m",
      "\u001b[1;31mHTTPError\u001b[0m                                 Traceback (most recent call last)",
      "\u001b[1;32m<ipython-input-37-2140caad7626>\u001b[0m in \u001b[0;36m<module>\u001b[1;34m\u001b[0m\n\u001b[0;32m      8\u001b[0m     \u001b[0mlogger\u001b[0m\u001b[1;33m.\u001b[0m\u001b[0minfo\u001b[0m\u001b[1;33m(\u001b[0m\u001b[1;34mf'Requesting {url}..'\u001b[0m\u001b[1;33m)\u001b[0m\u001b[1;33m\u001b[0m\u001b[1;33m\u001b[0m\u001b[0m\n\u001b[0;32m      9\u001b[0m     \u001b[0mr\u001b[0m \u001b[1;33m=\u001b[0m \u001b[0mrequests\u001b[0m\u001b[1;33m.\u001b[0m\u001b[0mget\u001b[0m\u001b[1;33m(\u001b[0m\u001b[0murl\u001b[0m\u001b[1;33m)\u001b[0m\u001b[1;33m\u001b[0m\u001b[1;33m\u001b[0m\u001b[0m\n\u001b[1;32m---> 10\u001b[1;33m     \u001b[0mr\u001b[0m\u001b[1;33m.\u001b[0m\u001b[0mraise_for_status\u001b[0m\u001b[1;33m(\u001b[0m\u001b[1;33m)\u001b[0m\u001b[1;33m\u001b[0m\u001b[1;33m\u001b[0m\u001b[0m\n\u001b[0m\u001b[0;32m     11\u001b[0m \u001b[1;33m\u001b[0m\u001b[0m\n\u001b[0;32m     12\u001b[0m     \u001b[1;31m## Parse data\u001b[0m\u001b[1;33m\u001b[0m\u001b[1;33m\u001b[0m\u001b[1;33m\u001b[0m\u001b[0m\n",
      "\u001b[1;32mC:\\ProgramData\\Anaconda3\\lib\\site-packages\\requests\\models.py\u001b[0m in \u001b[0;36mraise_for_status\u001b[1;34m(self)\u001b[0m\n\u001b[0;32m    941\u001b[0m \u001b[1;33m\u001b[0m\u001b[0m\n\u001b[0;32m    942\u001b[0m         \u001b[1;32mif\u001b[0m \u001b[0mhttp_error_msg\u001b[0m\u001b[1;33m:\u001b[0m\u001b[1;33m\u001b[0m\u001b[1;33m\u001b[0m\u001b[0m\n\u001b[1;32m--> 943\u001b[1;33m             \u001b[1;32mraise\u001b[0m \u001b[0mHTTPError\u001b[0m\u001b[1;33m(\u001b[0m\u001b[0mhttp_error_msg\u001b[0m\u001b[1;33m,\u001b[0m \u001b[0mresponse\u001b[0m\u001b[1;33m=\u001b[0m\u001b[0mself\u001b[0m\u001b[1;33m)\u001b[0m\u001b[1;33m\u001b[0m\u001b[1;33m\u001b[0m\u001b[0m\n\u001b[0m\u001b[0;32m    944\u001b[0m \u001b[1;33m\u001b[0m\u001b[0m\n\u001b[0;32m    945\u001b[0m     \u001b[1;32mdef\u001b[0m \u001b[0mclose\u001b[0m\u001b[1;33m(\u001b[0m\u001b[0mself\u001b[0m\u001b[1;33m)\u001b[0m\u001b[1;33m:\u001b[0m\u001b[1;33m\u001b[0m\u001b[1;33m\u001b[0m\u001b[0m\n",
      "\u001b[1;31mHTTPError\u001b[0m: 500 Server Error: Internal Server Error for url: https://api.opennem.org.au/stats/power/network/fueltech/NEM/WEM?month=2019-01-01"
     ]
    }
   ],
   "metadata": {}
  },
  {
   "cell_type": "code",
   "execution_count": 14,
   "source": [
    "## Close connection\r\n",
    "logger.debug('Close connection to DB..')\r\n",
    "dbc.close()"
   ],
   "outputs": [],
   "metadata": {}
  },
  {
   "cell_type": "code",
   "execution_count": null,
   "source": [],
   "outputs": [],
   "metadata": {}
  }
 ],
 "metadata": {
  "orig_nbformat": 4,
  "language_info": {
   "name": "python",
   "version": "3.8.8",
   "mimetype": "text/x-python",
   "codemirror_mode": {
    "name": "ipython",
    "version": 3
   },
   "pygments_lexer": "ipython3",
   "nbconvert_exporter": "python",
   "file_extension": ".py"
  },
  "kernelspec": {
   "name": "python3",
   "display_name": "Python 3.8.8 64-bit ('base': conda)"
  },
  "interpreter": {
   "hash": "b3ba2566441a7c06988d0923437866b63cedc61552a5af99d1f4fb67d367b25f"
  }
 },
 "nbformat": 4,
 "nbformat_minor": 2
}