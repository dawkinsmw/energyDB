{
 "cells": [
  {
   "cell_type": "markdown",
   "source": [
    "# Config"
   ],
   "metadata": {}
  },
  {
   "cell_type": "code",
   "execution_count": 1,
   "source": [
    "db_name = \"energy\"\r\n",
    "db_user = \"dawki\"\r\n",
    "db_pword_file = \"C:\\\\Users\\\\dawki\\\\OneDrive\\\\Archive\\\\2019\\\\Documents\\\\private.txt\"\r\n",
    "with open(db_pword_file) as f:\r\n",
    "    db_pword = f.read()"
   ],
   "outputs": [],
   "metadata": {}
  },
  {
   "cell_type": "code",
   "execution_count": 145,
   "source": [
    "logger = logging.getLogger(__name__)"
   ],
   "outputs": [],
   "metadata": {}
  },
  {
   "cell_type": "markdown",
   "source": [
    "# Imports"
   ],
   "metadata": {}
  },
  {
   "cell_type": "code",
   "execution_count": 151,
   "source": [
    "import psycopg2\r\n",
    "from psycopg2 import DatabaseError\r\n",
    "import logging\r\n",
    "import requests\r\n",
    "from parser_opennem import parse_request_json\r\n",
    "from db_populate import insert_batch"
   ],
   "outputs": [],
   "metadata": {}
  },
  {
   "cell_type": "code",
   "execution_count": 142,
   "source": [
    "from data import ZONE_KEY_TO_REGION, REGION_LONG_NAMES, NETWORK_LONG_NAMES"
   ],
   "outputs": [],
   "metadata": {}
  },
  {
   "cell_type": "markdown",
   "source": [
    "# Main"
   ],
   "metadata": {}
  },
  {
   "cell_type": "code",
   "execution_count": 150,
   "source": [
    "## Params\r\n",
    "region = ZONE_KEY_TO_REGION['AUS-NSW']\r\n",
    "month_start = dt.datetime.today().date().replace(day=1)\r\n",
    "url = f'http://api.opennem.org.au/stats/power/network/fueltech/NEM/{region}?month={month_start}'\r\n",
    "\r\n",
    "## Request data\r\n",
    "logger.info(f'Requesting {url}..')\r\n",
    "r = requests.get(url)\r\n",
    "r.raise_for_status()\r\n",
    "\r\n",
    "## Parse data \r\n",
    "logger.debug('Parsing JSON..')\r\n",
    "meta, price, power = parse_request_json(request_json)\r\n",
    "\r\n",
    "## Connect to DB\r\n",
    "logger.debug('Connect to DB..')\r\n",
    "dbc = psycopg2.connect(user=db_user,\r\n",
    "                        password=db_pword,\r\n",
    "                        host=\"127.0.0.1\",\r\n",
    "                        port=\"5432\",\r\n",
    "                        database=db_name)\r\n",
    "cur = dbc.cursor()\r\n",
    "\r\n",
    "## Insert batch\r\n",
    "logger.debug('Insert batch..')\r\n",
    "insert_batch(cursor,logger,meta,price,power)\r\n",
    "\r\n",
    "## Commit transaction\r\n",
    "logger.debug('Commiting to DB..')\r\n",
    "dbc.commit()\r\n",
    "\r\n",
    "## Close connection\r\n",
    "logger.debug('Close connection to DB..')\r\n",
    "dbc.close()"
   ],
   "outputs": [],
   "metadata": {}
  }
 ],
 "metadata": {
  "orig_nbformat": 4,
  "language_info": {
   "name": "python",
   "version": "3.8.8",
   "mimetype": "text/x-python",
   "codemirror_mode": {
    "name": "ipython",
    "version": 3
   },
   "pygments_lexer": "ipython3",
   "nbconvert_exporter": "python",
   "file_extension": ".py"
  },
  "kernelspec": {
   "name": "python3",
   "display_name": "Python 3.8.8 64-bit ('base': conda)"
  },
  "interpreter": {
   "hash": "b3ba2566441a7c06988d0923437866b63cedc61552a5af99d1f4fb67d367b25f"
  }
 },
 "nbformat": 4,
 "nbformat_minor": 2
}